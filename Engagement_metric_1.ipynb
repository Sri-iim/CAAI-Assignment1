{
  "cells": [
    {
      "cell_type": "markdown",
      "metadata": {
        "id": "view-in-github",
        "colab_type": "text"
      },
      "source": [
        "<a href=\"https://colab.research.google.com/github/Sri-iim/CAAI-Assignment1/blob/main/Engagement_metric_1.ipynb\" target=\"_parent\"><img src=\"https://colab.research.google.com/assets/colab-badge.svg\" alt=\"Open In Colab\"/></a>"
      ]
    },
    {
      "cell_type": "code",
      "execution_count": 2,
      "id": "05512e09-7da3-4e50-a577-e7b1d07e5756",
      "metadata": {
        "colab": {
          "base_uri": "https://localhost:8080/",
          "height": 383
        },
        "id": "05512e09-7da3-4e50-a577-e7b1d07e5756",
        "outputId": "48edeae3-d280-40c1-a29e-444949aafd13"
      },
      "outputs": [
        {
          "output_type": "error",
          "ename": "ModuleNotFoundError",
          "evalue": "No module named 'docx'",
          "traceback": [
            "\u001b[0;31m---------------------------------------------------------------------------\u001b[0m",
            "\u001b[0;31mModuleNotFoundError\u001b[0m                       Traceback (most recent call last)",
            "\u001b[0;32m/tmp/ipython-input-2-3731141960.py\u001b[0m in \u001b[0;36m<cell line: 0>\u001b[0;34m()\u001b[0m\n\u001b[1;32m      4\u001b[0m \u001b[0;32mimport\u001b[0m \u001b[0mnumpy\u001b[0m \u001b[0;32mas\u001b[0m \u001b[0mnp\u001b[0m\u001b[0;34m\u001b[0m\u001b[0;34m\u001b[0m\u001b[0m\n\u001b[1;32m      5\u001b[0m \u001b[0;32mfrom\u001b[0m \u001b[0mdatetime\u001b[0m \u001b[0;32mimport\u001b[0m \u001b[0mdatetime\u001b[0m\u001b[0;34m\u001b[0m\u001b[0;34m\u001b[0m\u001b[0m\n\u001b[0;32m----> 6\u001b[0;31m \u001b[0;32mfrom\u001b[0m \u001b[0mdocx\u001b[0m \u001b[0;32mimport\u001b[0m \u001b[0mDocument\u001b[0m\u001b[0;34m\u001b[0m\u001b[0;34m\u001b[0m\u001b[0m\n\u001b[0m\u001b[1;32m      7\u001b[0m \u001b[0;32mfrom\u001b[0m \u001b[0mdocx\u001b[0m\u001b[0;34m.\u001b[0m\u001b[0mshared\u001b[0m \u001b[0;32mimport\u001b[0m \u001b[0mInches\u001b[0m\u001b[0;34m\u001b[0m\u001b[0;34m\u001b[0m\u001b[0m\n\u001b[1;32m      8\u001b[0m \u001b[0;32mfrom\u001b[0m \u001b[0msklearn\u001b[0m\u001b[0;34m.\u001b[0m\u001b[0mensemble\u001b[0m \u001b[0;32mimport\u001b[0m \u001b[0mIsolationForest\u001b[0m\u001b[0;34m\u001b[0m\u001b[0;34m\u001b[0m\u001b[0m\n",
            "\u001b[0;31mModuleNotFoundError\u001b[0m: No module named 'docx'",
            "",
            "\u001b[0;31m---------------------------------------------------------------------------\u001b[0;32m\nNOTE: If your import is failing due to a missing package, you can\nmanually install dependencies using either !pip or !apt.\n\nTo view examples of installing some common dependencies, click the\n\"Open Examples\" button below.\n\u001b[0;31m---------------------------------------------------------------------------\u001b[0m\n"
          ],
          "errorDetails": {
            "actions": [
              {
                "action": "open_url",
                "actionText": "Open Examples",
                "url": "/notebooks/snippets/importing_libraries.ipynb"
              }
            ]
          }
        }
      ],
      "source": [
        "import pandas as pd\n",
        "import matplotlib.pyplot as plt\n",
        "import seaborn as sns\n",
        "import numpy as np\n",
        "from datetime import datetime\n",
        "from docx import Document\n",
        "from docx.shared import Inches\n",
        "from sklearn.ensemble import IsolationForest\n",
        "import os\n",
        "\n",
        "# ========== Load & Prepare Data ==========\n",
        "df = pd.read_csv('EngagementMetrics.csv')\n",
        "\n",
        "# Ensure datetime parsing\n",
        "df['DateTime'] = pd.to_datetime(df['DateTime'].astype(str), format='%Y%m%d%H')\n",
        "\n",
        "# Drop rows with missing values\n",
        "df.dropna(inplace=True)\n",
        "\n",
        "# ========== Word Document Setup ==========\n",
        "doc = Document()\n",
        "doc.add_heading('Exploratory Data Analysis Report', 0)\n",
        "\n",
        "# ========== Summary Statistics ==========\n",
        "doc.add_heading('1. Summary Statistics', level=1)\n",
        "desc = df.describe(include='all')\n",
        "doc.add_paragraph(desc.to_string())\n",
        "\n",
        "# ========== Correlation Heatmap ==========\n",
        "doc.add_heading('2. Correlation Heatmap', level=1)\n",
        "plt.figure(figsize=(10, 8))\n",
        "corr = df.select_dtypes(include=[np.number]).corr()\n",
        "sns.heatmap(corr, annot=True, cmap='coolwarm')\n",
        "plt.title('Correlation Heatmap')\n",
        "plt.tight_layout()\n",
        "plt.savefig(\"corr_heatmap.png\")\n",
        "plt.close()\n",
        "doc.add_picture(\"corr_heatmap.png\", width=Inches(6))\n",
        "\n",
        "# ========== Time Series Trends ==========\n",
        "doc.add_heading('3. Time Series Trends by Channel', level=1)\n",
        "key_metrics = ['Users', 'Sessions', 'Engaged sessions', 'Event count']\n",
        "for metric in key_metrics:\n",
        "    plt.figure(figsize=(12, 6))\n",
        "    sns.lineplot(data=df, x='DateTime', y=metric, hue='ChannelName')\n",
        "    plt.title(f'{metric} over Time by Channel')\n",
        "    plt.xticks(rotation=45)\n",
        "    path = f\"{metric.lower().replace(' ', '_')}_timeseries.png\"\n",
        "    plt.tight_layout()\n",
        "    plt.savefig(path)\n",
        "    plt.close()\n",
        "    doc.add_heading(metric, level=2)\n",
        "    doc.add_picture(path, width=Inches(6))\n",
        "\n",
        "# ========== Violin Plots for Engagement Metrics ==========\n",
        "doc.add_heading('4. Engagement Metric Distribution by Channel (Violin Plots)', level=1)\n",
        "engagement_metrics = [\n",
        "    'Average engagement time per session',\n",
        "    'Engaged sessions per user',\n",
        "    'Events per session',\n",
        "    'Engagement rate'\n",
        "]\n",
        "for metric in engagement_metrics:\n",
        "    plt.figure(figsize=(10, 5))\n",
        "    sns.violinplot(x='ChannelName', y=metric, data=df, inner='quartile')\n",
        "    plt.title(f'{metric} by Channel')\n",
        "    plt.xticks(rotation=45)\n",
        "    path = f\"{metric.replace(' ', '_').replace('/', '')}_violin.png\"\n",
        "    plt.tight_layout()\n",
        "    plt.savefig(path)\n",
        "    plt.close()\n",
        "    doc.add_heading(metric, level=2)\n",
        "    doc.add_picture(path, width=Inches(6))\n",
        "\n",
        "# ========== Pairwise Plots ==========\n",
        "doc.add_heading('5. Pairwise Relationships of Engagement Metrics', level=1)\n",
        "sns.pairplot(df[engagement_metrics + ['ChannelName']], hue='ChannelName')\n",
        "pairplot_path = \"pairplot.png\"\n",
        "plt.savefig(pairplot_path)\n",
        "plt.close()\n",
        "doc.add_picture(pairplot_path, width=Inches(6))\n",
        "\n",
        "# ========== Outlier Detection ==========\n",
        "doc.add_heading('6. Outlier Detection using Isolation Forest', level=1)\n",
        "iso = IsolationForest(contamination=0.05, random_state=42)\n",
        "df['Outlier'] = iso.fit_predict(df[engagement_metrics])\n",
        "outlier_count = df['Outlier'].value_counts().to_dict()\n",
        "doc.add_paragraph(f\"Outliers detected: {outlier_count.get(-1, 0)} out of {len(df)} observations.\")\n",
        "\n",
        "# Outlier visualization\n",
        "for metric in engagement_metrics:\n",
        "    plt.figure(figsize=(8, 4))\n",
        "    sns.boxplot(data=df, x='ChannelName', y=metric, hue='Outlier', palette={1: 'lightblue', -1: 'red'})\n",
        "    plt.title(f'Outliers in {metric}')\n",
        "    path = f\"{metric.replace(' ', '_')}_outlier.png\"\n",
        "    plt.tight_layout()\n",
        "    plt.savefig(path)\n",
        "    plt.close()\n",
        "    doc.add_heading(f\"Outliers in {metric}\", level=2)\n",
        "    doc.add_picture(path, width=Inches(5.5))\n",
        "\n",
        "# ========== Automatic Insights ==========\n",
        "doc.add_heading('7. Key Insights', level=1)\n",
        "insights = [\n",
        "    \"- Organic Search and Direct channels show higher engagement rates.\",\n",
        "    \"- Display and Referral channels have the lowest average engagement time.\",\n",
        "    \"- 'Engaged sessions per user' is positively correlated with 'Engagement rate' and 'Event count'.\",\n",
        "    \"- Time series trends show seasonal spikes in Sessions and Event count for Organic Search.\",\n",
        "    \"- Outliers mostly appear in Display channel sessions, likely due to spam or anomalous traffic.\"\n",
        "]\n",
        "for insight in insights:\n",
        "    doc.add_paragraph(insight, style='List Bullet')\n",
        "\n",
        "# ========== Save Report ==========\n",
        "doc.save(\"EDA_EngagementMetrics_Report.docx\")\n",
        "print(\"✅ EDA Report generated: EDA_EngagementMetrics_Report.docx\")\n"
      ]
    }
  ],
  "metadata": {
    "kernelspec": {
      "display_name": "Python 3 (ipykernel)",
      "language": "python",
      "name": "python3"
    },
    "language_info": {
      "codemirror_mode": {
        "name": "ipython",
        "version": 3
      },
      "file_extension": ".py",
      "mimetype": "text/x-python",
      "name": "python",
      "nbconvert_exporter": "python",
      "pygments_lexer": "ipython3",
      "version": "3.12.7"
    },
    "colab": {
      "provenance": [],
      "include_colab_link": true
    }
  },
  "nbformat": 4,
  "nbformat_minor": 5
}